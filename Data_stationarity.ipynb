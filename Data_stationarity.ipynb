{
 "cells": [
  {
   "cell_type": "code",
   "execution_count": 1,
   "id": "f8d9c311",
   "metadata": {},
   "outputs": [],
   "source": [
    "from tqdm import tqdm\n",
    "from statsmodels.tsa.arima.model import ARIMA\n",
    "\n",
    "import warnings\n",
    "warnings.filterwarnings(\"ignore\")"
   ]
  },
  {
   "cell_type": "code",
   "execution_count": 4,
   "id": "7a375a68",
   "metadata": {},
   "outputs": [],
   "source": [
    "import numpy as np\n",
    "import pandas as pd\n",
    "from statsmodels.tsa.stattools import adfuller\n",
    "\n",
    "def stationarity(timeseries):\n",
    "    #1) Seasonality \n",
    "    for _ in range(5): #maximum differencing 5 times\n",
    "        try:\n",
    "            exception = 0\n",
    "            result = adfuller(timeseries)\n",
    "        except:\n",
    "            exception = 1 # when input closing price data is the same, error occurs -> break\n",
    "            break\n",
    "        if result[1] < 0.05: # pvalue < 0.05\n",
    "            break\n",
    "        # differencing\n",
    "        timeseries = timeseries.diff().dropna() #timeseries.diff() = timeseries - timeseries.shift()     \n",
    "    \n",
    "    #2) Trend\n",
    "    if exception < 1:\n",
    "        if result[1] > 0.05: #If Still not stationary, apply log transformation\n",
    "            timeseries = timeseries.apply(np.log)\n",
    "            logtrans = 1\n",
    "    return timeseries"
   ]
  },
  {
   "cell_type": "code",
   "execution_count": 5,
   "id": "b3fa4b9e",
   "metadata": {},
   "outputs": [],
   "source": [
    "train = pd.read_csv(\"./open/train.csv\")"
   ]
  },
  {
   "cell_type": "code",
   "execution_count": 6,
   "id": "93c6d6cd",
   "metadata": {},
   "outputs": [
    {
     "name": "stderr",
     "output_type": "stream",
     "text": [
      "100%|███████████████████████████████████████████| 10/10 [00:02<00:00,  3.52it/s]\n"
     ]
    }
   ],
   "source": [
    "# 추론 결과를 저장하기 위한 dataframe 생성\n",
    "results_df = pd.DataFrame(columns=['종목코드', 'final_return'])\n",
    "\n",
    "# train 데이터에 존재하는 독립적인 종목코드 추출\n",
    "unique_codes = train['종목코드'].unique()\n",
    "\n",
    "# 각 종목코드에 대해서 모델 학습 및 추론 반복\n",
    "for code in tqdm(unique_codes):\n",
    "    \n",
    "    logtrans = 0\n",
    "    # 학습 데이터 생성\n",
    "    train_close = train[train['종목코드'] == code][['일자', '종가']]\n",
    "    train_close['일자'] = pd.to_datetime(train_close['일자'], format='%Y%m%d')\n",
    "    train_close['종가'] = stationarity(train_close['종가'])\n",
    "    train_close.set_index('일자', inplace=True)\n",
    "    tc = train_close['종가']\n",
    "    \n",
    "    # 모델 선언, 학습 및 추론\n",
    "    model = ARIMA(tc, order=(2, 1, 2))\n",
    "    model_fit = model.fit()\n",
    "    predictions = model_fit.forecast(steps=15) # 향후 15개의 거래일에 대해서 예측\n",
    "    \n",
    "    if logtrans == 1:\n",
    "        predictions = np.exp(predictions)\n",
    "    # 최종 수익률 계산\n",
    "    final_return = (predictions.iloc[-1] - predictions.iloc[0]) / predictions.iloc[0]\n",
    "    \n",
    "    # 결과 저장\n",
    "    results_df = pd.concat([results_df, pd.DataFrame({'종목코드': [code], 'final_return': [final_return]})])"
   ]
  },
  {
   "cell_type": "code",
   "execution_count": 7,
   "id": "a7664e54",
   "metadata": {},
   "outputs": [
    {
     "data": {
      "text/html": [
       "<div>\n",
       "<style scoped>\n",
       "    .dataframe tbody tr th:only-of-type {\n",
       "        vertical-align: middle;\n",
       "    }\n",
       "\n",
       "    .dataframe tbody tr th {\n",
       "        vertical-align: top;\n",
       "    }\n",
       "\n",
       "    .dataframe thead th {\n",
       "        text-align: right;\n",
       "    }\n",
       "</style>\n",
       "<table border=\"1\" class=\"dataframe\">\n",
       "  <thead>\n",
       "    <tr style=\"text-align: right;\">\n",
       "      <th></th>\n",
       "      <th>종목코드</th>\n",
       "      <th>final_return</th>\n",
       "      <th>순위</th>\n",
       "    </tr>\n",
       "  </thead>\n",
       "  <tbody>\n",
       "    <tr>\n",
       "      <th>0</th>\n",
       "      <td>A060310</td>\n",
       "      <td>-0.634147</td>\n",
       "      <td>8</td>\n",
       "    </tr>\n",
       "    <tr>\n",
       "      <th>0</th>\n",
       "      <td>A095570</td>\n",
       "      <td>1.076930</td>\n",
       "      <td>1</td>\n",
       "    </tr>\n",
       "    <tr>\n",
       "      <th>0</th>\n",
       "      <td>A006840</td>\n",
       "      <td>0.003040</td>\n",
       "      <td>3</td>\n",
       "    </tr>\n",
       "    <tr>\n",
       "      <th>0</th>\n",
       "      <td>A054620</td>\n",
       "      <td>-0.459270</td>\n",
       "      <td>7</td>\n",
       "    </tr>\n",
       "    <tr>\n",
       "      <th>0</th>\n",
       "      <td>A265520</td>\n",
       "      <td>-0.004132</td>\n",
       "      <td>4</td>\n",
       "    </tr>\n",
       "    <tr>\n",
       "      <th>0</th>\n",
       "      <td>A211270</td>\n",
       "      <td>-0.405870</td>\n",
       "      <td>6</td>\n",
       "    </tr>\n",
       "    <tr>\n",
       "      <th>0</th>\n",
       "      <td>A027410</td>\n",
       "      <td>-0.121139</td>\n",
       "      <td>5</td>\n",
       "    </tr>\n",
       "    <tr>\n",
       "      <th>0</th>\n",
       "      <td>A282330</td>\n",
       "      <td>-0.843253</td>\n",
       "      <td>9</td>\n",
       "    </tr>\n",
       "    <tr>\n",
       "      <th>0</th>\n",
       "      <td>A126600</td>\n",
       "      <td>-0.908344</td>\n",
       "      <td>10</td>\n",
       "    </tr>\n",
       "    <tr>\n",
       "      <th>0</th>\n",
       "      <td>A138930</td>\n",
       "      <td>0.528496</td>\n",
       "      <td>2</td>\n",
       "    </tr>\n",
       "  </tbody>\n",
       "</table>\n",
       "</div>"
      ],
      "text/plain": [
       "      종목코드  final_return  순위\n",
       "0  A060310     -0.634147   8\n",
       "0  A095570      1.076930   1\n",
       "0  A006840      0.003040   3\n",
       "0  A054620     -0.459270   7\n",
       "0  A265520     -0.004132   4\n",
       "0  A211270     -0.405870   6\n",
       "0  A027410     -0.121139   5\n",
       "0  A282330     -0.843253   9\n",
       "0  A126600     -0.908344  10\n",
       "0  A138930      0.528496   2"
      ]
     },
     "execution_count": 7,
     "metadata": {},
     "output_type": "execute_result"
    }
   ],
   "source": [
    "results_df['순위'] = results_df['final_return'].rank(method='first', ascending=False).astype('int') # 각 순위를 중복없이 생성\n",
    "results_df"
   ]
  },
  {
   "cell_type": "code",
   "execution_count": null,
   "id": "57e20bf8",
   "metadata": {},
   "outputs": [],
   "source": []
  }
 ],
 "metadata": {
  "kernelspec": {
   "display_name": "Python 3 (ipykernel)",
   "language": "python",
   "name": "python3"
  },
  "language_info": {
   "codemirror_mode": {
    "name": "ipython",
    "version": 3
   },
   "file_extension": ".py",
   "mimetype": "text/x-python",
   "name": "python",
   "nbconvert_exporter": "python",
   "pygments_lexer": "ipython3",
   "version": "3.10.12"
  }
 },
 "nbformat": 4,
 "nbformat_minor": 5
}
